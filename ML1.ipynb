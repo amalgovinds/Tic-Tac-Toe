{
 "cells": [
  {
   "cell_type": "code",
   "execution_count": 1,
   "id": "7899da8a",
   "metadata": {},
   "outputs": [],
   "source": [
    "def player_input():\n",
    "    marker=''\n",
    "    while not marker=='X' and marker=='O':\n",
    "        marker=input('Player 1, choose X or O').upper()\n",
    "    player1=marker\n",
    "    if player1=='X':\n",
    "        player2='O'\n",
    "    else:\n",
    "        player2='X'\n",
    "    return (player1,player2)"
   ]
  },
  {
   "cell_type": "code",
   "execution_count": 3,
   "id": "de1b427e",
   "metadata": {},
   "outputs": [],
   "source": [
    "board=['#','X','X','X','O','O','O','X','X','X']"
   ]
  },
  {
   "cell_type": "code",
   "execution_count": 4,
   "id": "0840a8bb",
   "metadata": {},
   "outputs": [],
   "source": [
    "from IPython.display import clear_output\n",
    "def print_board(board):\n",
    "    clear_output()\n",
    "    print(board[1]+'|'+board[2]+'|'+board[3])\n",
    "    print(board[4]+'|'+board[5]+'|'+board[6])\n",
    "    print(board[7]+'|'+board[8]+'|'+board[9])"
   ]
  },
  {
   "cell_type": "code",
   "execution_count": 5,
   "id": "95a15e7c",
   "metadata": {},
   "outputs": [
    {
     "name": "stdout",
     "output_type": "stream",
     "text": [
      "X|X|X\n",
      "O|O|O\n",
      "X|X|X\n"
     ]
    }
   ],
   "source": [
    "print_board(board)"
   ]
  },
  {
   "cell_type": "code",
   "execution_count": 12,
   "id": "b9d51643",
   "metadata": {},
   "outputs": [],
   "source": [
    "def place_marker(board,marker,position):\n",
    "    board[position]=marker"
   ]
  },
  {
   "cell_type": "code",
   "execution_count": 23,
   "id": "20562151",
   "metadata": {},
   "outputs": [
    {
     "name": "stdout",
     "output_type": "stream",
     "text": [
      "X|X|X\n",
      "X|O|O\n",
      "X|X|X\n"
     ]
    }
   ],
   "source": [
    "place_marker(board,'X',4)\n",
    "print_board(board)"
   ]
  },
  {
   "cell_type": "code",
   "execution_count": 19,
   "id": "1e58dd14",
   "metadata": {},
   "outputs": [],
   "source": [
    "def win_check(board,mark):\n",
    "    return ((board[1]==mark and board[2]==mark and board[3]==mark) or\n",
    "    (board[4]==board[5]==board[6]==mark) or\n",
    "    (board[7]==board[8]==board[9]==mark) or\n",
    "    (board[1]==mark and board[4]==mark and board[7]==mark) or\n",
    "    (board[2]==mark and board[5]==mark and board[8]==mark) or\n",
    "    (board[3]==mark and board[6]==mark and board[9]==mark) or\n",
    "    (board[1]==mark and board[5]==mark and board[9]==mark) or\n",
    "    (board[3]==mark and board[5]==mark and board[7]==mark))\n",
    "    "
   ]
  },
  {
   "cell_type": "code",
   "execution_count": 24,
   "id": "09d63a3b",
   "metadata": {},
   "outputs": [
    {
     "data": {
      "text/plain": [
       "False"
      ]
     },
     "execution_count": 24,
     "metadata": {},
     "output_type": "execute_result"
    }
   ],
   "source": [
    "win_check(board,'O')"
   ]
  },
  {
   "cell_type": "code",
   "execution_count": 44,
   "id": "c3dd2743",
   "metadata": {},
   "outputs": [],
   "source": [
    "import random\n",
    "def choose_first():\n",
    "    flip=random.randint(0,1)\n",
    "    if flip==0:\n",
    "        return 'Player 1'\n",
    "    else:\n",
    "        return 'Player 2'"
   ]
  },
  {
   "cell_type": "code",
   "execution_count": 27,
   "id": "999ca84c",
   "metadata": {},
   "outputs": [],
   "source": [
    "def space_check(board, position):\n",
    "    return (board[position] == ' ' )"
   ]
  },
  {
   "cell_type": "code",
   "execution_count": 47,
   "id": "612e9b71",
   "metadata": {},
   "outputs": [],
   "source": [
    "def full_board(board):\n",
    "    for i in range(1,10):\n",
    "        if space_check(board, i):\n",
    "            return False\n",
    "    return True"
   ]
  },
  {
   "cell_type": "code",
   "execution_count": 36,
   "id": "61c34fbe",
   "metadata": {},
   "outputs": [],
   "source": [
    "def player_choice(board):\n",
    "    position=0\n",
    "    while position not in [1,2,3,4,5,6,7,8,9] or not space_check(board,position):\n",
    "        position=int(input('Chose position: (1-9)'))\n",
    "    return position"
   ]
  },
  {
   "cell_type": "code",
   "execution_count": 37,
   "id": "82b17eb3",
   "metadata": {},
   "outputs": [],
   "source": [
    "def replay():\n",
    "    choice=input(\"Wanna play? (Y/N):\")\n",
    "    return choice"
   ]
  },
  {
   "cell_type": "code",
   "execution_count": 53,
   "id": "e8c8b694",
   "metadata": {},
   "outputs": [
    {
     "name": "stdout",
     "output_type": "stream",
     "text": [
      "O|X|O\n",
      "O|X|O\n",
      "X|O|X\n",
      "TIE\n",
      "Wanna play? (Y/N):y\n"
     ]
    }
   ],
   "source": [
    "print('Welcome to Tic Tac Toe')\n",
    "flag=True\n",
    "while(flag):\n",
    "    the_board=[' ']*10\n",
    "    p1_marker,p2_marker=player_input()\n",
    "    turn=choose_first()\n",
    "    print(turn + ' goes first.')\n",
    "    play=input('Ready to play? (Y/N)')\n",
    "    if play=='Y':\n",
    "        game=True\n",
    "    else:\n",
    "        game=False\n",
    "    while game:\n",
    "        if turn=='Player 1':\n",
    "            print_board(the_board)\n",
    "            ch=player_choice(the_board)\n",
    "            place_marker(the_board,p1_marker,ch)\n",
    "            if win_check(the_board,p1_marker):\n",
    "                print_board(the_board)\n",
    "                print('PLAYER 1 HAS WON!!')\n",
    "                game=False\n",
    "            else:\n",
    "                if full_board(the_board):\n",
    "                    print_board(the_board)\n",
    "                    print('TIE')\n",
    "                    game=False\n",
    "                else:\n",
    "                    turn='Player 2'\n",
    "        else:\n",
    "            print_board(the_board)\n",
    "            ch=player_choice(the_board)\n",
    "            place_marker(the_board,p2_marker,ch)\n",
    "            if win_check(the_board,p2_marker):\n",
    "                print_board(the_board)\n",
    "                print('PLAYER 2 HAS WON!!')\n",
    "                game=False\n",
    "            else:\n",
    "                if full_board(the_board):\n",
    "                    print_board(the_board)\n",
    "                    print('TIE')\n",
    "                    game=False\n",
    "                else:\n",
    "                    turn='Player 1'\n",
    "    if replay()!='Y':\n",
    "        flag=False"
   ]
  },
  {
   "cell_type": "code",
   "execution_count": null,
   "id": "887f38da",
   "metadata": {},
   "outputs": [],
   "source": []
  }
 ],
 "metadata": {
  "kernelspec": {
   "display_name": "Python 3 (ipykernel)",
   "language": "python",
   "name": "python3"
  },
  "language_info": {
   "codemirror_mode": {
    "name": "ipython",
    "version": 3
   },
   "file_extension": ".py",
   "mimetype": "text/x-python",
   "name": "python",
   "nbconvert_exporter": "python",
   "pygments_lexer": "ipython3",
   "version": "3.11.3"
  }
 },
 "nbformat": 4,
 "nbformat_minor": 5
}
